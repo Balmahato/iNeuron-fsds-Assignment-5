{
 "cells": [
  {
   "cell_type": "markdown",
   "id": "c1829a9f",
   "metadata": {},
   "source": [
    "# Assignment_5"
   ]
  },
  {
   "cell_type": "markdown",
   "id": "c4fcab8e",
   "metadata": {},
   "source": [
    "1 What does an empty dictionary's code look like? "
   ]
  },
  {
   "cell_type": "markdown",
   "id": "f92ea43e",
   "metadata": {},
   "source": [
    "Ans-: An empty dictionary is often represented by two empty curly brackets\n",
    "\n",
    "    d={ } or d= dict( )"
   ]
  },
  {
   "cell_type": "markdown",
   "id": "34eb77b4",
   "metadata": {},
   "source": [
    "2 What is the value of dictionary value with key 'foo' and the value 42?"
   ]
  },
  {
   "cell_type": "markdown",
   "id": "158fe9be",
   "metadata": {},
   "source": [
    "Ans-: {'foo' :42}"
   ]
  },
  {
   "cell_type": "markdown",
   "id": "a76a074e",
   "metadata": {},
   "source": [
    "3 What is the most significant distinction between a disctionary and list?"
   ]
  },
  {
   "cell_type": "markdown",
   "id": "e0663a13",
   "metadata": {},
   "source": [
    "Ans-:   Dictionaries are represented by { } while lists are represented by [ ].\n",
    "The items stored in a dictionary are unordered, while the items in a list are ordered."
   ]
  },
  {
   "cell_type": "markdown",
   "id": "50ca1c26",
   "metadata": {},
   "source": [
    "4 What happens if you try to access spam['foo'] if spam is {'bar': 100}?"
   ]
  },
  {
   "cell_type": "markdown",
   "id": "be61d41d",
   "metadata": {},
   "source": [
    "Ans -: We will get a keyError  KeyError: 'foo'"
   ]
  },
  {
   "cell_type": "markdown",
   "id": "d2d7d83e",
   "metadata": {},
   "source": [
    "5 If a dictionary is stored in spam, What is the diffrence between the expressions cat in spam and cat in spam.keys()?"
   ]
  },
  {
   "cell_type": "markdown",
   "id": "77d9ef73",
   "metadata": {},
   "source": [
    "Ans-: There is no difference. The operator checks whether a value exists as a key in the dictionary or not"
   ]
  },
  {
   "cell_type": "markdown",
   "id": "11ec26d3",
   "metadata": {},
   "source": [
    "6 If a dictionary is stored in spam, What is the diffrence between the expressions cat in spam and cat in spam.keys()?"
   ]
  },
  {
   "cell_type": "code",
   "execution_count": 1,
   "id": "7c9865e7",
   "metadata": {},
   "outputs": [
    {
     "data": {
      "text/plain": [
       "'cat in spam.value()'"
      ]
     },
     "execution_count": 1,
     "metadata": {},
     "output_type": "execute_result"
    }
   ],
   "source": [
    "\"cat in spam.value()\"  # checks whether there is a value 'cat' for one of the keys in 'spam'"
   ]
  },
  {
   "cell_type": "markdown",
   "id": "f150ced8",
   "metadata": {},
   "source": [
    "7 What is a shortcut for the following code?\n",
    "\n",
    "if 'color' not in spam: spam['color']= 'black'"
   ]
  },
  {
   "cell_type": "markdown",
   "id": "8d2e4de0",
   "metadata": {},
   "source": [
    "Ans-: spam.setdefault('color', 'black')"
   ]
  },
  {
   "cell_type": "markdown",
   "id": "e78efde6",
   "metadata": {},
   "source": [
    "8 How do you 'pretty print' dictionary values using which modules and function?\n",
    "\n",
    "    1 by using pprint() dunction of pprint module\n",
    "\n",
    "    Note: pprint() function doenot prettify nested dictionaries\n",
    "    \n",
    "    2 by using dumps() method of json module\n",
    "    3 by using dumps() method of yaml module"
   ]
  },
  {
   "cell_type": "code",
   "execution_count": 2,
   "id": "b1a9d989",
   "metadata": {},
   "outputs": [
    {
     "name": "stdout",
     "output_type": "stream",
     "text": [
      "Printing using print() function\n",
      " [{'Name': 'John', 'Age': '23', 'Residence': {'Country': 'USA', 'City': 'New York'}}, {'Name': 'Jose', 'Age': '44', 'Residence': {'Country': 'Spain', 'City': 'Madrid'}}, {'Name': 'Anne', 'Age': '29', 'Residence': {'Country': 'UK', 'City': 'England'}}, {'Name': 'Lee', 'Age': '35', 'Residence': {'Country': 'Japan', 'City': 'Osaka'}}]\n",
      "----------------------------------------------------------------------\n",
      "Printing using pprint() funciton\n",
      "[{'Age': '23',\n",
      "  'Name': 'John',\n",
      "  'Residence': {'City': 'New York', 'Country': 'USA'}},\n",
      " {'Age': '44',\n",
      "  'Name': 'Jose',\n",
      "  'Residence': {'City': 'Madrid', 'Country': 'Spain'}},\n",
      " {'Age': '29',\n",
      "  'Name': 'Anne',\n",
      "  'Residence': {'City': 'England', 'Country': 'UK'}},\n",
      " {'Age': '35',\n",
      "  'Name': 'Lee',\n",
      "  'Residence': {'City': 'Osaka', 'Country': 'Japan'}}]\n",
      "----------------------------------------------------------------------\n",
      "Printing using dumps() method\n",
      " [\n",
      "    {\n",
      "        \"Name\": \"John\",\n",
      "        \"Age\": \"23\",\n",
      "        \"Residence\": {\n",
      "            \"Country\": \"USA\",\n",
      "            \"City\": \"New York\"\n",
      "        }\n",
      "    },\n",
      "    {\n",
      "        \"Name\": \"Jose\",\n",
      "        \"Age\": \"44\",\n",
      "        \"Residence\": {\n",
      "            \"Country\": \"Spain\",\n",
      "            \"City\": \"Madrid\"\n",
      "        }\n",
      "    },\n",
      "    {\n",
      "        \"Name\": \"Anne\",\n",
      "        \"Age\": \"29\",\n",
      "        \"Residence\": {\n",
      "            \"Country\": \"UK\",\n",
      "            \"City\": \"England\"\n",
      "        }\n",
      "    },\n",
      "    {\n",
      "        \"Name\": \"Lee\",\n",
      "        \"Age\": \"35\",\n",
      "        \"Residence\": {\n",
      "            \"Country\": \"Japan\",\n",
      "            \"City\": \"Osaka\"\n",
      "        }\n",
      "    }\n",
      "]\n",
      "----------------------------------------------------------------------\n",
      "Printing using dump() method\n",
      " - Age: '23'\n",
      "  Name: John\n",
      "  Residence:\n",
      "    City: New York\n",
      "    Country: USA\n",
      "- Age: '44'\n",
      "  Name: Jose\n",
      "  Residence:\n",
      "    City: Madrid\n",
      "    Country: Spain\n",
      "- Age: '29'\n",
      "  Name: Anne\n",
      "  Residence:\n",
      "    City: England\n",
      "    Country: UK\n",
      "- Age: '35'\n",
      "  Name: Lee\n",
      "  Residence:\n",
      "    City: Osaka\n",
      "    Country: Japan\n",
      "\n"
     ]
    }
   ],
   "source": [
    "ndict = [\n",
    "  {'Name': 'John', 'Age': '23', 'Residence': {'Country':'USA', 'City': 'New York'}},\n",
    "  {'Name': 'Jose', 'Age': '44', 'Residence': {'Country':'Spain', 'City': 'Madrid'}},\n",
    "  {'Name': 'Anne', 'Age': '29', 'Residence': {'Country':'UK', 'City': 'England'}},\n",
    "  {'Name': 'Lee', 'Age': '35', 'Residence': {'Country':'Japan', 'City': 'Osaka'}}\n",
    "]\n",
    "\n",
    "print('Printing using print() function\\n',ndict)\n",
    "print('-'*70)\n",
    "import pprint\n",
    "print('Printing using pprint() funciton')\n",
    "pprint.pprint(ndict)\n",
    "print('-'*70)\n",
    "import json\n",
    "dump = json.dumps(ndict, indent=4)\n",
    "print('Printing using dumps() method\\n', dump)\n",
    "print('-'*70)\n",
    "import yaml\n",
    "dump = yaml.dump(ndict)\n",
    "print('Printing using dump() method\\n', dump)"
   ]
  },
  {
   "cell_type": "code",
   "execution_count": null,
   "id": "18e85de5",
   "metadata": {},
   "outputs": [],
   "source": []
  }
 ],
 "metadata": {
  "kernelspec": {
   "display_name": "Python 3 (ipykernel)",
   "language": "python",
   "name": "python3"
  },
  "language_info": {
   "codemirror_mode": {
    "name": "ipython",
    "version": 3
   },
   "file_extension": ".py",
   "mimetype": "text/x-python",
   "name": "python",
   "nbconvert_exporter": "python",
   "pygments_lexer": "ipython3",
   "version": "3.9.12"
  }
 },
 "nbformat": 4,
 "nbformat_minor": 5
}
